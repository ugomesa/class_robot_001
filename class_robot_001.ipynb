{
 "cells": [
  {
   "cell_type": "code",
   "execution_count": 2,
   "metadata": {},
   "outputs": [
    {
     "name": "stdout",
     "output_type": "stream",
     "text": [
      "hello\n"
     ]
    }
   ],
   "source": [
    "print(\"hello\")"
   ]
  },
  {
   "cell_type": "code",
   "execution_count": 3,
   "metadata": {},
   "outputs": [
    {
     "name": "stdout",
     "output_type": "stream",
     "text": [
      "my name is Tom\n"
     ]
    }
   ],
   "source": [
    "class Robot:\n",
    "    def introduce_self(self):\n",
    "        print(\"my name is \" + self.name) # this in java\n",
    "\n",
    "r1 = Robot()\n",
    "r1.name = \"Tom\"\n",
    "r1.color = \"red\"\n",
    "r1.weight = 30\n",
    "\n",
    "r1.introduce_self()"
   ]
  },
  {
   "cell_type": "code",
   "execution_count": 4,
   "metadata": {},
   "outputs": [
    {
     "name": "stdout",
     "output_type": "stream",
     "text": [
      "my name is Tom\n",
      "my name is jerry\n"
     ]
    }
   ],
   "source": [
    "class Robot:\n",
    "    def introduce_self(self):\n",
    "        print(\"my name is \" + self.name) # this in java\n",
    "\n",
    "r1 = Robot()\n",
    "r1.name = \"Tom\"\n",
    "r1.color = \"red\"\n",
    "r1.weight = 30\n",
    "\n",
    "r2 = Robot()\n",
    "r2.name\t= \"jerry\"\n",
    "r2.color = \"blue\"\n",
    "r2.weight = 40\n",
    "\n",
    "r1.introduce_self()\n",
    "r2.introduce_self()"
   ]
  },
  {
   "cell_type": "code",
   "execution_count": 5,
   "metadata": {},
   "outputs": [
    {
     "name": "stdout",
     "output_type": "stream",
     "text": [
      "my name is Tom\n",
      "my name is jerry\n",
      "my name is paul\n"
     ]
    }
   ],
   "source": [
    "class Robot:\n",
    "    def introduce_self(self):\n",
    "        print(\"my name is \" + self.name) # this in java\n",
    "\n",
    "r1 = Robot()\n",
    "r1.name = \"Tom\"\n",
    "r1.color = \"red\"\n",
    "r1.weight = 30\n",
    "\n",
    "r2 = Robot()\n",
    "r2.name\t= \"jerry\"\n",
    "r2.color = \"blue\"\n",
    "r2.weight = 40\n",
    "\n",
    "r3 = Robot()\n",
    "r3.name = \"paul\"\n",
    "r3.color = \"green\"\n",
    "r3.weight = 50\n",
    "\n",
    "r1.introduce_self()\n",
    "r2.introduce_self()\n",
    "r3.introduce_self()"
   ]
  },
  {
   "cell_type": "code",
   "execution_count": 6,
   "metadata": {},
   "outputs": [
    {
     "name": "stdout",
     "output_type": "stream",
     "text": [
      "my name is Tom\n",
      "my name is jerry\n",
      "my name is paul\n"
     ]
    }
   ],
   "source": [
    "class Robot:\n",
    "    def introduce_self(self):\n",
    "        print(\"my name is \" + self.name) # this in java\n",
    "\n",
    "r1 = Robot()\n",
    "r1.name = \"Tom\"\n",
    "r1.color = \"red\"\n",
    "r1.weight = 30\n",
    "r1.length = 40\n",
    "\n",
    "r2 = Robot()\n",
    "r2.name\t= \"jerry\"\n",
    "r2.color = \"blue\"\n",
    "r2.weight = 40\n",
    "r2.length = 60\n",
    "\n",
    "r3 = Robot()\n",
    "r3.name = \"paul\"\n",
    "r3.color = \"green\"\n",
    "r3.weight = 50\n",
    "r3.length = 75\n",
    "\n",
    "r1.introduce_self()\n",
    "r2.introduce_self()\n",
    "r3.introduce_self()"
   ]
  }
 ],
 "metadata": {
  "kernelspec": {
   "display_name": "Python 3",
   "language": "python",
   "name": "python3"
  },
  "language_info": {
   "codemirror_mode": {
    "name": "ipython",
    "version": 3
   },
   "file_extension": ".py",
   "mimetype": "text/x-python",
   "name": "python",
   "nbconvert_exporter": "python",
   "pygments_lexer": "ipython3",
   "version": "3.11.2"
  },
  "orig_nbformat": 4,
  "vscode": {
   "interpreter": {
    "hash": "29801bd8719e63e3a012ec387a8ea35cee8df15026e68ffc9c57c8bc3d5c24fe"
   }
  }
 },
 "nbformat": 4,
 "nbformat_minor": 2
}
